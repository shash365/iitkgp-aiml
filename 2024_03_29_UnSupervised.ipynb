{
  "nbformat": 4,
  "nbformat_minor": 0,
  "metadata": {
    "colab": {
      "provenance": [],
      "authorship_tag": "ABX9TyNt25sZU8x89gcK7Tj6YoMu",
      "include_colab_link": true
    },
    "kernelspec": {
      "name": "python3",
      "display_name": "Python 3"
    },
    "language_info": {
      "name": "python"
    }
  },
  "cells": [
    {
      "cell_type": "markdown",
      "metadata": {
        "id": "view-in-github",
        "colab_type": "text"
      },
      "source": [
        "<a href=\"https://colab.research.google.com/github/shash365/iitkgp-aiml/blob/main/2024_03_29_UnSupervised.ipynb\" target=\"_parent\"><img src=\"https://colab.research.google.com/assets/colab-badge.svg\" alt=\"Open In Colab\"/></a>"
      ]
    },
    {
      "cell_type": "code",
      "execution_count": null,
      "metadata": {
        "colab": {
          "base_uri": "https://localhost:8080/",
          "height": 430
        },
        "id": "Yp98D0zA_1yH",
        "outputId": "d087b9f7-9112-4a02-f666-a394bbdfea9e"
      },
      "outputs": [
        {
          "output_type": "display_data",
          "data": {
            "text/plain": [
              "<Figure size 640x480 with 1 Axes>"
            ],
            "image/png": "[encoded data removed]"
          },
          "metadata": {}
        }
      ],
      "source": [
        "import matplotlib.pyplot as plt\n",
        "\n",
        "x = [ 5,  4, 13, 11, 13,  5,  3,  4,  3, 10, 12, 13, 14, 12, 11,  6,  7,  6,  5, 11, 14, 10]\n",
        "y = [15, 18, 22, 21, 21, 19, 15, 16, 16, 21, 23, 22, 22, 20, 22, 17, 18, 14, 17, 24, 22, 23]\n",
        "\n",
        "plt.scatter(x, y, color='black')\n",
        "plt.show()"
      ]
    },
    {
      "cell_type": "markdown",
      "source": [
        "Data Processing"
      ],
      "metadata": {
        "id": "dUZ-awsPCC7-"
      }
    },
    {
      "cell_type": "code",
      "source": [
        "data = list(zip(x, y))\n",
        "print(data)"
      ],
      "metadata": {
        "colab": {
          "base_uri": "https://localhost:8080/"
        },
        "id": "eK5LIp0BCE2W",
        "outputId": "44a392cb-e955-4406-b16d-ba4ab68ea68f"
      },
      "execution_count": null,
      "outputs": [
        {
          "output_type": "stream",
          "name": "stdout",
          "text": [
            "[(5, 15), (4, 18), (13, 22), (11, 21), (13, 21), (5, 19), (3, 15), (4, 16), (3, 16), (10, 21), (12, 23), (13, 22), (14, 22), (12, 20), (11, 22), (6, 17), (7, 18), (6, 14), (5, 17), (11, 24), (14, 22), (10, 23)]\n"
          ]
        }
      ]
    },
    {
      "cell_type": "markdown",
      "source": [
        "The K-Means Clustering"
      ],
      "metadata": {
        "id": "Y3qnoVExCJds"
      }
    },
    {
      "cell_type": "code",
      "source": [
        "from sklearn.cluster import KMeans\n",
        "\n",
        "kmeans = KMeans(n_clusters=2, n_init='auto')\n",
        "kmeans.fit(data)\n",
        "\n",
        "c = kmeans.labels_\n",
        "print(c)"
      ],
      "metadata": {
        "colab": {
          "base_uri": "https://localhost:8080/"
        },
        "id": "0ORnUVfeCKFS",
        "outputId": "a7d64675-ef9a-48e9-cc85-9744b3d5c9e3"
      },
      "execution_count": null,
      "outputs": [
        {
          "output_type": "stream",
          "name": "stdout",
          "text": [
            "[1 1 0 0 0 1 1 1 1 0 0 0 0 0 0 1 1 1 1 0 0 0]\n"
          ]
        }
      ]
    },
    {
      "cell_type": "markdown",
      "source": [
        "Visualize the clusters"
      ],
      "metadata": {
        "id": "aecw8bmqDLHz"
      }
    },
    {
      "cell_type": "code",
      "source": [
        "plt.scatter(x, y, c=kmeans.labels_)\n",
        "plt.show()"
      ],
      "metadata": {
        "colab": {
          "base_uri": "https://localhost:8080/",
          "height": 430
        },
        "id": "4Cfdyr_VDLjE",
        "outputId": "49c13f90-30ba-42b9-f2c6-be5654dadad4"
      },
      "execution_count": null,
      "outputs": [
        {
          "output_type": "display_data",
          "data": {
            "text/plain": [
              "<Figure size 640x480 with 1 Axes>"
            ],
            "image/png": "[encoded data removed]"
          },
          "metadata": {}
        }
      ]
    },
    {
      "cell_type": "markdown",
      "source": [
        "#Cluster Evaluation without Ground-Truth"
      ],
      "metadata": {
        "id": "Qx24dN3lEBEP"
      }
    },
    {
      "cell_type": "markdown",
      "source": [
        "##Silhouette Coefficient"
      ],
      "metadata": {
        "id": "pR8db2R3EHlU"
      }
    },
    {
      "cell_type": "markdown",
      "source": [
        "The Silhouette Coefficient is defined for each sample and is composed of two scores:\n",
        "\n",
        "a: The mean distance between a sample and all other points in the same class.\n",
        "\n",
        "b: The mean distance between a sample and all other points in the next nearest cluster.\n",
        "\n",
        "1. The score is bounded between -1 for incorrect clustering and +1 for highly dense clustering. Scores around zero indicate overlapping clusters.\n",
        "\n",
        "2. The score is higher when clusters are dense and well separated, which relates to a standard concept of a cluster.\n",
        "\n",
        "3. The Silhouette Coefficient is generally higher for convex clusters than other concepts of clusters, such as density based clusters like those obtained through DBSCAN."
      ],
      "metadata": {
        "id": "VMCYgs4gELGm"
      }
    },
    {
      "cell_type": "code",
      "source": [
        "from sklearn import metrics\n",
        "\n",
        "metrics.silhouette_score(data, c, metric='euclidean')"
      ],
      "metadata": {
        "colab": {
          "base_uri": "https://localhost:8080/"
        },
        "id": "Xb5RkNsTER9U",
        "outputId": "03e15eba-4e63-4694-bc4d-d1b5522a44c3"
      },
      "execution_count": null,
      "outputs": [
        {
          "output_type": "execute_result",
          "data": {
            "text/plain": [
              "np.float64(0.7214539689632106)"
            ]
          },
          "metadata": {},
          "execution_count": 8
        }
      ]
    },
    {
      "cell_type": "code",
      "source": [
        "'''\n",
        "k=2 :: 0.7214\n",
        "k=3 ::\n",
        "'''"
      ],
      "metadata": {
        "id": "9WeAnONIGBSf"
      },
      "execution_count": null,
      "outputs": []
    },
    {
      "cell_type": "markdown",
      "source": [
        "##Calinski-Harabasz Index"
      ],
      "metadata": {
        "id": "a_Y7wpPlEuE5"
      }
    },
    {
      "cell_type": "markdown",
      "source": [
        "Also known as the Variance Ratio Criterion - can be used to evaluate the model, where a higher Calinski-Harabasz score relates to a model with better defined clusters.\n",
        "\n",
        "The index is the ratio of the sum of between-clusters dispersion and of within-cluster dispersion for all clusters (where dispersion is defined as the sum of distances squared).\n",
        "\n",
        "1. The score is higher when clusters are dense and well separated, which relates to a standard concept of a cluster.\n",
        "\n",
        "2. The score is fast to compute.\n",
        "\n",
        "3. The Calinski-Harabasz index is generally higher for convex clusters than other concepts of clusters, such as density based clusters like those obtained through DBSCAN."
      ],
      "metadata": {
        "id": "cUt2qq_IEvhA"
      }
    },
    {
      "cell_type": "code",
      "source": [
        "metrics.calinski_harabasz_score(data, c)"
      ],
      "metadata": {
        "colab": {
          "base_uri": "https://localhost:8080/"
        },
        "id": "5cTmkhzlE0j_",
        "outputId": "bd182339-e36a-444f-bfcf-a2282b57f667"
      },
      "execution_count": null,
      "outputs": [
        {
          "output_type": "execute_result",
          "data": {
            "text/plain": [
              "np.float64(121.287792326368)"
            ]
          },
          "metadata": {},
          "execution_count": 9
        }
      ]
    },
    {
      "cell_type": "code",
      "source": [
        "'''\n",
        "k=2 :: 121.29\n",
        "k=3 ::\n",
        "'''"
      ],
      "metadata": {
        "id": "gze3iOccF86j"
      },
      "execution_count": null,
      "outputs": []
    },
    {
      "cell_type": "markdown",
      "source": [
        "##Davies-Bouldin Index\n",
        "\n",
        "This index signifies the average ‘similarity’ between clusters, where the similarity is a measure that compares the distance between clusters with the size of the clusters themselves.\n",
        "\n",
        "1.Zero is the lowest possible score. Values closer to zero indicate a better partition.\n",
        "\n",
        "2.The computation of Davies-Bouldin is simpler than that of Silhouette scores.\n",
        "\n",
        "3.The index is solely based on quantities and features inherent to the dataset as its computation only uses point-wise distances\n",
        "\n",
        "4.The Davies-Boulding index is generally higher for convex clusters than other concepts of clusters, such as density based clusters like those obtained from DBSCAN.\n",
        "\n",
        "5.The usage of centroid distance limits the distance metric to Euclidean space."
      ],
      "metadata": {
        "id": "nyf5sdhAFEne"
      }
    },
    {
      "cell_type": "code",
      "source": [
        "metrics.davies_bouldin_score(data, c)"
      ],
      "metadata": {
        "colab": {
          "base_uri": "https://localhost:8080/"
        },
        "id": "0nRLL8Z2FM3P",
        "outputId": "083013e7-dbe0-4c96-cbfb-6720944aa7a2"
      },
      "execution_count": null,
      "outputs": [
        {
          "output_type": "execute_result",
          "data": {
            "text/plain": [
              "np.float64(0.38191565365304037)"
            ]
          },
          "metadata": {},
          "execution_count": 10
        }
      ]
    },
    {
      "cell_type": "code",
      "source": [
        "'''\n",
        "k=2 :: 0.3819\n",
        "k=3 ::\n",
        "'''"
      ],
      "metadata": {
        "id": "MoPJNW69FsS7"
      },
      "execution_count": null,
      "outputs": []
    },
    {
      "cell_type": "code",
      "source": [
        "from sklearn.cluster import KMeans\n",
        "\n",
        "data = list(zip(x, y))\n",
        "inertias = []\n",
        "\n",
        "for i in range(1,11):\n",
        "    kmeans = KMeans(n_clusters=i, n_init='auto')\n",
        "    kmeans.fit(data)\n",
        "    inertias.append(kmeans.inertia_)\n",
        "\n",
        "print(inertias)"
      ],
      "metadata": {
        "colab": {
          "base_uri": "https://localhost:8080/"
        },
        "id": "RhxccIHyFIOA",
        "outputId": "aa5f712d-4347-47d8-8027-f0e21f4dbb1c"
      },
      "execution_count": null,
      "outputs": [
        {
          "output_type": "stream",
          "name": "stdout",
          "text": [
            "[515.8181818181818, 73.01666666666667, 52.51666666666666, 42.85000000000001, 33.55238095238095, 21.666666666666664, 17.166666666666664, 15.55, 13.0, 8.833333333333334]\n"
          ]
        }
      ]
    },
    {
      "cell_type": "code",
      "source": [
        "plt.plot(range(1,11), inertias, marker='o')\n",
        "plt.title('Elbow method')\n",
        "plt.xlabel('Number of clusters')\n",
        "plt.ylabel('Inertia')\n",
        "plt.show()\n"
      ],
      "metadata": {
        "colab": {
          "base_uri": "https://localhost:8080/",
          "height": 472
        },
        "id": "Ebkd0jF1FBcv",
        "outputId": "ff777c9f-be13-4fe0-bc7c-f7a69599d104"
      },
      "execution_count": null,
      "outputs": [
        {
          "output_type": "display_data",
          "data": {
            "text/plain": [
              "<Figure size 640x480 with 1 Axes>"
            ],
            "image/png": "[encoded data removed]"
          },
          "metadata": {}
        }
      ]
    },
    {
      "cell_type": "code",
      "source": [],
      "metadata": {
        "id": "qIpoauPjEvCd"
      },
      "execution_count": null,
      "outputs": []
    },
    {
      "cell_type": "code",
      "source": [],
      "metadata": {
        "id": "_xgSzbLBEo8J"
      },
      "execution_count": null,
      "outputs": []
    },
    {
      "cell_type": "code",
      "source": [],
      "metadata": {
        "id": "dtthrDI1EKQE"
      },
      "execution_count": null,
      "outputs": []
    },
    {
      "cell_type": "code",
      "source": [],
      "metadata": {
        "id": "MVc-yKSoEGrM"
      },
      "execution_count": null,
      "outputs": []
    },
    {
      "cell_type": "code",
      "source": [],
      "metadata": {
        "id": "fcJcqbI9EFD3"
      },
      "execution_count": null,
      "outputs": []
    },
    {
      "cell_type": "markdown",
      "source": [
        "# Housing Example"
      ],
      "metadata": {
        "id": "VEjtUWZLMJ1n"
      }
    },
    {
      "cell_type": "code",
      "source": [],
      "metadata": {
        "id": "z7oK6eqlMLRu"
      },
      "execution_count": null,
      "outputs": []
    },
    {
      "cell_type": "code",
      "source": [],
      "metadata": {
        "id": "XNnc5yW7MIy6"
      },
      "execution_count": null,
      "outputs": []
    },
    {
      "cell_type": "code",
      "source": [],
      "metadata": {
        "id": "Y7NFd_rICF1e"
      },
      "execution_count": null,
      "outputs": []
    },
    {
      "cell_type": "code",
      "source": [],
      "metadata": {
        "id": "rm4RzTSvAUcv"
      },
      "execution_count": null,
      "outputs": []
    }
  ]
}