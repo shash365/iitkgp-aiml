{
  "nbformat": 4,
  "nbformat_minor": 0,
  "metadata": {
    "colab": {
      "provenance": [],
      "gpuType": "T4",
      "authorship_tag": "ABX9TyMh5zxmbhzGDwaoyu7cZWh6",
      "include_colab_link": true
    },
    "kernelspec": {
      "name": "python3",
      "display_name": "Python 3"
    },
    "language_info": {
      "name": "python"
    },
    "accelerator": "GPU"
  },
  "cells": [
    {
      "cell_type": "markdown",
      "metadata": {
        "id": "view-in-github",
        "colab_type": "text"
      },
      "source": [
        "<a href=\"https://colab.research.google.com/github/shash365/iitkgp-aiml/blob/main/Flan_T5_XL.ipynb\" target=\"_parent\"><img src=\"https://colab.research.google.com/assets/colab-badge.svg\" alt=\"Open In Colab\"/></a>"
      ]
    },
    {
      "cell_type": "code",
      "execution_count": 1,
      "metadata": {
        "id": "04vrWV4OXIE5"
      },
      "outputs": [],
      "source": [
        "import sys\n",
        "import torch\n",
        "import transformers\n",
        "from transformers import T5Tokenizer, T5ForConditionalGeneration\n",
        "import re"
      ]
    },
    {
      "cell_type": "code",
      "source": [
        "transformers.logging.set_verbosity_error()\n",
        "transformers.utils.logging.disable_progress_bar()"
      ],
      "metadata": {
        "id": "HAgOH5kGXVEb"
      },
      "execution_count": 2,
      "outputs": []
    },
    {
      "cell_type": "code",
      "source": [
        "def clean_decoded_output(decoded_output):\n",
        "    # clean the output from LLM and return\n",
        "\t# Convert to uppercase, strip spaces, remove punctuation for comparison\n",
        "    clean = decoded_output.strip().upper()\n",
        "    clean = re.sub(r'[^A-Z]', '', clean)\n",
        "    if 'YES' in clean:\n",
        "        cleaned = 'YES'\n",
        "    else:\n",
        "        cleaned = 'NO'\n",
        "    return cleaned"
      ],
      "metadata": {
        "id": "wfcV4ZIJXeVd"
      },
      "execution_count": 3,
      "outputs": []
    },
    {
      "cell_type": "code",
      "source": [
        "def llm_function(model,tokenizer,a,b):\n",
        "\n",
        "    # Step 1: Formulate the prompt\n",
        "    prompt = f\"Is the answer '{b}' correct for the question '{a}'? Answer YES or NO.\"\n",
        "\n",
        "    # Step 2: Tokenize the prompt\n",
        "    inputs = tokenizer(prompt, return_tensors=\"pt\")\n",
        "\n",
        "    # Step 3: Generate output\n",
        "    outputs = model.generate(**inputs)\n",
        "\n",
        "    # Step 4: Decode the model output\n",
        "    decoded_output = tokenizer.decode(outputs[0], skip_special_tokens=True)\n",
        "\n",
        "    # Step 5: Clean and return output\n",
        "    cleaned_output = clean_decoded_output(decoded_output)\n",
        "\n",
        "    return cleaned_output"
      ],
      "metadata": {
        "id": "ixokz4_WXg_3"
      },
      "execution_count": 4,
      "outputs": []
    },
    {
      "cell_type": "code",
      "source": [
        "if __name__ == '__main__':\n",
        "\n",
        "    input_data_one = \"Is Paris the capital of France?\"\n",
        "    input_data_two = \"Answer YES or NO.\"\n",
        "\n",
        "    #input_data_one = sys.argv[1].strip()\n",
        "    #input_data_two = sys.argv[2].strip()\n",
        "\n",
        "    ##################### Loading Model and Tokenizer ########################\n",
        "    tokenizer = T5Tokenizer.from_pretrained(\"google/flan-t5-xl\")\n",
        "    model = T5ForConditionalGeneration.from_pretrained(\"google/flan-t5-xl\")\n",
        "    ##########################################################################\n",
        "\n",
        "    \"\"\"  Call to function that will perform the computation. \"\"\"\n",
        "\n",
        "    a = input_data_one\n",
        "    b = input_data_two\n",
        "\n",
        "    torch.manual_seed(42)\n",
        "    out = llm_function(model,tokenizer,a,b)\n",
        "    print(out.strip())"
      ],
      "metadata": {
        "colab": {
          "base_uri": "https://localhost:8080/"
        },
        "id": "WQvO65IHXj79",
        "outputId": "dbd3f10b-784a-44ff-9ef2-c4a87f725c35"
      },
      "execution_count": 9,
      "outputs": [
        {
          "output_type": "stream",
          "name": "stdout",
          "text": [
            "NO\n"
          ]
        }
      ]
    }
  ]
}